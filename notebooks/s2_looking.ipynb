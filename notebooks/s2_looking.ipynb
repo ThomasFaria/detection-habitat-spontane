{
 "cells": [
  {
   "cell_type": "code",
   "execution_count": 28,
   "metadata": {},
   "outputs": [
    {
     "ename": "ModuleNotFoundError",
     "evalue": "No module named 'utils'",
     "output_type": "error",
     "traceback": [
      "\u001b[0;31m---------------------------------------------------------------------------\u001b[0m",
      "\u001b[0;31mModuleNotFoundError\u001b[0m                       Traceback (most recent call last)",
      "Cell \u001b[0;32mIn[28], line 3\u001b[0m\n\u001b[1;32m      1\u001b[0m \u001b[39mimport\u001b[39;00m \u001b[39mos\u001b[39;00m \n\u001b[1;32m      2\u001b[0m \u001b[39mfrom\u001b[39;00m \u001b[39msrc\u001b[39;00m\u001b[39m.\u001b[39;00m\u001b[39mutils\u001b[39;00m \u001b[39mimport\u001b[39;00m utils\n\u001b[0;32m----> 3\u001b[0m \u001b[39mfrom\u001b[39;00m \u001b[39msrc\u001b[39;00m\u001b[39m.\u001b[39;00m\u001b[39mtrain_pipeline_utils\u001b[39;00m \u001b[39mimport\u001b[39;00m download_data \u001b[39mas\u001b[39;00m d\n",
      "File \u001b[0;32m~/work/detection-habitat-spontane/src/train_pipeline_utils/download_data.py:3\u001b[0m\n\u001b[1;32m      1\u001b[0m \u001b[39mimport\u001b[39;00m \u001b[39mos\u001b[39;00m\n\u001b[1;32m      2\u001b[0m \u001b[39mimport\u001b[39;00m \u001b[39ms3fs\u001b[39;00m\n\u001b[0;32m----> 3\u001b[0m \u001b[39mfrom\u001b[39;00m \u001b[39mutils\u001b[39;00m\u001b[39m.\u001b[39;00m\u001b[39mutils\u001b[39;00m \u001b[39mimport\u001b[39;00m (\n\u001b[1;32m      4\u001b[0m     get_environment,\n\u001b[1;32m      5\u001b[0m     get_root_path,\n\u001b[1;32m      6\u001b[0m     update_storage_access\n\u001b[1;32m      7\u001b[0m )\n\u001b[1;32m     10\u001b[0m \u001b[39mdef\u001b[39;00m \u001b[39mload_satellite_data\u001b[39m(year: \u001b[39mint\u001b[39m, dep: \u001b[39mstr\u001b[39m, src: \u001b[39mstr\u001b[39m):\n\u001b[1;32m     11\u001b[0m \u001b[39m    \u001b[39m\u001b[39m\"\"\"\u001b[39;00m\n\u001b[1;32m     12\u001b[0m \u001b[39m    Load satellite data for a given year and territory and a given source of satellite images.\u001b[39;00m\n\u001b[1;32m     13\u001b[0m \n\u001b[0;32m   (...)\u001b[0m\n\u001b[1;32m     25\u001b[0m \u001b[39m        str: The local path where the data is downloaded.\u001b[39;00m\n\u001b[1;32m     26\u001b[0m \u001b[39m    \"\"\"\u001b[39;00m\n",
      "\u001b[0;31mModuleNotFoundError\u001b[0m: No module named 'utils'"
     ]
    }
   ],
   "source": [
    "import os \n",
    "from src.utils import utils\n",
    "from src.train_pipeline_utils import download_data as d"
   ]
  },
  {
   "cell_type": "code",
   "execution_count": 23,
   "metadata": {},
   "outputs": [],
   "source": []
  },
  {
   "cell_type": "code",
   "execution_count": null,
   "metadata": {},
   "outputs": [
    {
     "name": "stdout",
     "output_type": "stream",
     "text": [
      "{'donnees': {'source train': 'PLEIADES', 'dataset': 'PLEIADE', 'year': [2022], 'dep': ['972'], 'type labeler': 'BDTOPO', 'buffer size': 10, 'n channels train': 3, 'n bands': 3, 'tile size': 250, 'augmentation': False, 'task': 'classification'}, 'optim': {'loss': 'lossbinaire', 'lr': 0.0001, 'momentum': 0.9, 'module': 'binarydeeplabv3', 'batch size': 9, 'batch size test': 4, 'max epochs': 50, 'val prop': 0.2, 'accumulate batch': 3}, 'mlflow': True}\n"
     ]
    }
   ],
   "source": []
  },
  {
   "cell_type": "code",
   "execution_count": null,
   "metadata": {},
   "outputs": [
    {
     "data": {
      "text/plain": [
       "{'donnees': {'source train': 'PLEIADES',\n",
       "  'dataset': 'PLEIADE',\n",
       "  'year': [2022],\n",
       "  'dep': ['972'],\n",
       "  'type labeler': 'BDTOPO',\n",
       "  'buffer size': 10,\n",
       "  'n channels train': 3,\n",
       "  'n bands': 3,\n",
       "  'tile size': 250,\n",
       "  'augmentation': False,\n",
       "  'task': 'classification'},\n",
       " 'optim': {'loss': 'lossbinaire',\n",
       "  'lr': 0.0001,\n",
       "  'momentum': 0.9,\n",
       "  'module': 'binarydeeplabv3',\n",
       "  'batch size': 9,\n",
       "  'batch size test': 4,\n",
       "  'max epochs': 50,\n",
       "  'val prop': 0.2,\n",
       "  'accumulate batch': 3},\n",
       " 'mlflow': True}"
      ]
     },
     "execution_count": 16,
     "metadata": {},
     "output_type": "execute_result"
    }
   ],
   "source": []
  },
  {
   "cell_type": "code",
   "execution_count": null,
   "metadata": {},
   "outputs": [
    {
     "data": {
      "text/plain": [
       "{'source train': 'PLEIADES',\n",
       " 'dataset': 'PLEIADE',\n",
       " 'year': [2022],\n",
       " 'dep': ['972'],\n",
       " 'type labeler': 'BDTOPO',\n",
       " 'buffer size': 10,\n",
       " 'n channels train': 3,\n",
       " 'n bands': 3,\n",
       " 'tile size': 250,\n",
       " 'augmentation': False,\n",
       " 'task': 'classification'}"
      ]
     },
     "execution_count": 17,
     "metadata": {},
     "output_type": "execute_result"
    }
   ],
   "source": [
    "config[\"donnees\"]"
   ]
  },
  {
   "cell_type": "code",
   "execution_count": null,
   "metadata": {},
   "outputs": [],
   "source": []
  }
 ],
 "metadata": {
  "kernelspec": {
   "display_name": "base",
   "language": "python",
   "name": "python3"
  },
  "language_info": {
   "codemirror_mode": {
    "name": "ipython",
    "version": 3
   },
   "file_extension": ".py",
   "mimetype": "text/x-python",
   "name": "python",
   "nbconvert_exporter": "python",
   "pygments_lexer": "ipython3",
   "version": "3.10.9"
  },
  "orig_nbformat": 4
 },
 "nbformat": 4,
 "nbformat_minor": 2
}
